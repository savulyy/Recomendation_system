{
 "cells": [
  {
   "cell_type": "markdown",
   "metadata": {
    "id": "u98L9TgH0eMk"
   },
   "source": [
    "# Разработка A/B-тестирования и анализ результатов"
   ]
  },
  {
   "cell_type": "markdown",
   "metadata": {
    "id": "LJBRALHs0eMf"
   },
   "source": [
    "## Что нужно сделать\n",
    "Ваши задачи: рассчитать параметры теста, оценить корректность его проведения и проанализировать результаты эксперимента."
   ]
  },
  {
   "cell_type": "markdown",
   "metadata": {
    "id": "UpOucjID0eMl"
   },
   "source": [
    "### 1. Работа с историческими данными (EDA)"
   ]
  },
  {
   "cell_type": "markdown",
   "metadata": {
    "id": "8iJMtL-30eMl"
   },
   "source": [
    "#### 1.1. Загрузка исторических данных\n",
    "На первом этапе необходимо проработать с историческими данными приложения:\n",
    "\n",
    "- Импортируем библиотеку pandas.\n",
    "\n",
    "- Считаем и сохраним в датафрейм `sessions_history` CSV-файл с историческими данными о сессиях пользователей `sessions_project_history.csv`."
   ]
  },
  {
   "cell_type": "code",
   "execution_count": 4,
   "metadata": {
    "id": "6TPR2-1RPboT"
   },
   "outputs": [],
   "source": [
    "import pandas as pd\n",
    "import scipy.stats as st\n",
    "import numpy as np\n",
    "import matplotlib.pyplot as plt"
   ]
  },
  {
   "cell_type": "code",
   "execution_count": 6,
   "metadata": {
    "id": "6TPR2-1RPboT"
   },
   "outputs": [],
   "source": [
    "sessions_history = pd.read_csv('sessions_project_history.csv')"
   ]
  },
  {
   "cell_type": "markdown",
   "metadata": {
    "id": "qTDoiODz0eMo"
   },
   "source": [
    "#### 1.2. Знакомство с данными\n",
    "- Для каждого уникального пользователя `user_id` рассчитаем количество уникальных сессий `session_id`.\n",
    "\n",
    "- Выведим на экран все данные из таблицы `sessions_history` для одного пользователя с наибольшим количеством сессий. Если таких пользователей несколько, выберите любого из них.\n",
    "\n",
    "- Изучим таблицу для одного пользователя, чтобы лучше понять логику формирования каждого столбца данных.\n",
    "\n"
   ]
  },
  {
   "cell_type": "code",
   "execution_count": 5,
   "metadata": {
    "id": "PWZO9vTIPbPN"
   },
   "outputs": [
    {
     "name": "stdout",
     "output_type": "stream",
     "text": [
      "user_id\n",
      "00005FB6A13A6FBE    2\n",
      "0000B15A18D77ED9    3\n",
      "0000C4E3A4A571A9    2\n",
      "000293FAF9E67A81    4\n",
      "00029C5AE889A6C3    2\n",
      "                   ..\n",
      "FFFCDE7746148710    4\n",
      "FFFDD413285E753F    3\n",
      "FFFECBA0F2578AB0    2\n",
      "FFFEDB68228B5F21    5\n",
      "FFFF4228DF580C3B    3\n",
      "Name: session_id, Length: 134039, dtype: int64\n"
     ]
    }
   ],
   "source": [
    "print(sessions_history.groupby(by = 'user_id')['session_id'].count())"
   ]
  },
  {
   "cell_type": "code",
   "execution_count": 7,
   "metadata": {},
   "outputs": [],
   "source": [
    "max_sessions = (sessions_history.groupby(by = 'user_id')['session_id'].count().sort_values()).tail(1).reset_index()\n",
    "max_user_id = max_sessions['user_id'].iloc[0]"
   ]
  },
  {
   "cell_type": "markdown",
   "metadata": {
    "id": "CmcGpJTP0eMq"
   },
   "source": [
    "#### 1.3. Анализ числа регистраций\n",
    "Одна из важнейших метрик продукта — число зарегистрированных пользователей. Используя исторические данные, визуализируем, как менялось число регистраций в приложении за время его существования."
   ]
  },
  {
   "cell_type": "code",
   "execution_count": 7,
   "metadata": {
    "id": "tN_6Ml3EPatS"
   },
   "outputs": [
    {
     "name": "stdout",
     "output_type": "stream",
     "text": [
      "   session_date  user_id  registration_flag\n",
      "0    2025-08-11     3919                169\n",
      "1    2025-08-12     6056                336\n",
      "2    2025-08-13     8489                464\n",
      "3    2025-08-14    10321                625\n",
      "4    2025-08-15    14065                840\n",
      "5    2025-08-16    12205                916\n",
      "6    2025-08-17    11200                833\n",
      "7    2025-08-18    10839                860\n",
      "8    2025-08-19    12118                831\n",
      "9    2025-08-20    13514               1008\n",
      "10   2025-08-21    15051               1063\n",
      "11   2025-08-22    17563               1251\n",
      "12   2025-08-23    16082               1253\n",
      "13   2025-08-24    13683               1181\n",
      "14   2025-08-25    13635               1060\n",
      "15   2025-08-26    13289               1050\n",
      "16   2025-08-27    14766               1076\n",
      "17   2025-08-28    15388               1175\n",
      "18   2025-08-29    16873               1174\n",
      "19   2025-08-30    14891               1165\n",
      "20   2025-08-31    13266               1105\n",
      "21   2025-09-01    12685               1028\n",
      "22   2025-09-02    12672               1039\n",
      "23   2025-09-03    12777               1035\n",
      "24   2025-09-04    13683               1007\n",
      "25   2025-09-05    15324               1030\n",
      "26   2025-09-06    13078               1023\n",
      "27   2025-09-07    12367               1069\n",
      "28   2025-09-08    11826               1009\n",
      "29   2025-09-09    11780                980\n",
      "30   2025-09-10    12526               1015\n",
      "31   2025-09-11     8623                824\n",
      "32   2025-09-12     6436                669\n",
      "33   2025-09-13     5183                537\n",
      "34   2025-09-14     4364                440\n",
      "35   2025-09-15     3698                383\n",
      "36   2025-09-16     3032                286\n",
      "37   2025-09-17     2548                272\n",
      "38   2025-09-18     1952                201\n",
      "39   2025-09-19     1418                132\n",
      "40   2025-09-20     1100                107\n",
      "41   2025-09-21      776                 87\n",
      "42   2025-09-22      546                 68\n",
      "43   2025-09-23      317                 32\n"
     ]
    },
    {
     "data": {
      "image/png": "[encoded data removed]",
      "text/plain": [
       "<Figure size 1152x432 with 1 Axes>"
      ]
     },
     "metadata": {
      "needs_background": "light"
     },
     "output_type": "display_data"
    }
   ],
   "source": [
    "count_users_per_day = sessions_history.groupby('session_date').agg({'user_id':'count',\n",
    "                                                                    'registration_flag':'sum'}).reset_index()\n",
    "print(count_users_per_day)\n",
    "count_users_per_day.plot(kind = 'line',\n",
    "                        x = 'session_date',\n",
    "                        y = ['user_id','registration_flag'],\n",
    "                        figsize =(16,6),\n",
    "                        xlabel = 'Дата',\n",
    "                        ylabel = 'Кол-во пользователей',\n",
    "                        title = 'Общее число пользователей и общее число зарегистрированных пользователей по дням',\n",
    "                        grid = True)\n",
    "plt.show()"
   ]
  },
  {
   "cell_type": "code",
   "execution_count": 8,
   "metadata": {},
   "outputs": [
    {
     "data": {
      "image/png": "[encoded data removed]",
      "text/plain": [
       "<Figure size 1152x432 with 1 Axes>"
      ]
     },
     "metadata": {
      "needs_background": "light"
     },
     "output_type": "display_data"
    }
   ],
   "source": [
    "count_users_per_day['percent'] = count_users_per_day['registration_flag']/count_users_per_day['user_id']\n",
    "count_users_per_day.plot(kind = 'line',\n",
    "                        x = 'session_date',\n",
    "                        y = 'percent',\n",
    "                        figsize =(16,6),\n",
    "                        xlabel = 'Дата',\n",
    "                        ylabel = 'Доля зарегистрированных пользователей',\n",
    "                        title = 'Доля зарегистрированных пользователей по дням',\n",
    "                        grid = True)\n",
    "plt.show()"
   ]
  },
  {
   "cell_type": "markdown",
   "metadata": {},
   "source": [
    "По графику видно, что кол-во зарегистрированных пользоватей растет, но не превышает 20%."
   ]
  },
  {
   "cell_type": "markdown",
   "metadata": {
    "id": "UR7D7RhF0eMr"
   },
   "source": [
    "#### 1.4. Анализ числа просмотренных страниц\n",
    "Другая важная метрика продукта — число просмотренных страниц в приложении. Чем больше страниц просмотрено, тем сильнее пользователь увлечён контентом, а значит, выше шансы, что он зарегистрируется и оплатит подписку."
   ]
  },
  {
   "cell_type": "code",
   "execution_count": 9,
   "metadata": {
    "id": "cb6hPlVzPaSf"
   },
   "outputs": [
    {
     "data": {
      "image/png": "[encoded data removed]",
      "text/plain": [
       "<Figure size 720x432 with 1 Axes>"
      ]
     },
     "metadata": {
      "needs_background": "light"
     },
     "output_type": "display_data"
    }
   ],
   "source": [
    "pages_session = sessions_history.groupby('page_counter')['session_id'].count()\n",
    "pages_session.plot.bar(figsize = (10,6),\n",
    "                      xlabel = 'Кол-во просмотренных страниц',\n",
    "                      ylabel = 'Количество сессий',\n",
    "                      title = 'Количество сессий для каждого значения количества просмотренных страниц')\n",
    "plt.xticks(rotation=0)\n",
    "plt.show()"
   ]
  },
  {
   "cell_type": "markdown",
   "metadata": {},
   "source": [
    "По графику видно, что чаще всего пользователи просматривают 3 страницы, далее идет спад."
   ]
  },
  {
   "cell_type": "markdown",
   "metadata": {
    "id": "xDltSpVP0eMr"
   },
   "source": [
    "#### 1.5. Доля пользователей, просмотревших более четырёх страниц"
   ]
  },
  {
   "cell_type": "code",
   "execution_count": 10,
   "metadata": {
    "id": "iygaPfixPYMW"
   },
   "outputs": [],
   "source": [
    "def good(row):\n",
    "    if row['page_counter']>=4:\n",
    "        return 1\n",
    "    else: \n",
    "        return 0\n",
    "sessions_history['good_session'] = sessions_history.apply(good,axis = 1)"
   ]
  },
  {
   "cell_type": "code",
   "execution_count": 11,
   "metadata": {},
   "outputs": [
    {
     "data": {
      "image/png": "[encoded data removed]",
      "text/plain": [
       "<Figure size 720x432 with 1 Axes>"
      ]
     },
     "metadata": {
      "needs_background": "light"
     },
     "output_type": "display_data"
    }
   ],
   "source": [
    "success_sessions = sessions_history.groupby('session_date').agg({'good_session':'sum',\n",
    "                                                                 'session_id':'count'}).reset_index()\n",
    "success_sessions['percent'] = success_sessions['good_session']/success_sessions['session_id']\n",
    "success_sessions.plot(kind = 'line',\n",
    "                      figsize = (10,6),\n",
    "                      x = 'session_date',\n",
    "                      y = 'percent',\n",
    "                      xlabel = 'Дата',\n",
    "                      ylabel = 'Доля успешных сессий',\n",
    "                      title = 'Доля успешных сессий по дням')\n",
    "plt.show()"
   ]
  },
  {
   "cell_type": "markdown",
   "metadata": {
    "id": "21JcG77Y0eMt"
   },
   "source": [
    "### 2. Подготовка к тесту\n",
    "При планировании теста необходимо проделать несколько важных шагов:\n",
    "\n",
    "- Сформулировать нулевую и альтернативную гипотезы\n",
    "\n",
    "- Определиться с целевой метрикой.\n",
    "\n",
    "- Рассчитать необходимый размер выборки.\n",
    "\n",
    "- Исходя из текущих значений трафика рассчитать необходимую длительность проведения теста."
   ]
  },
  {
   "cell_type": "markdown",
   "metadata": {
    "id": "kXdcwkjf859k"
   },
   "source": [
    "#### 2.1 Формулировка нулевой и альтернативной гипотез\n",
    "\n",
    "Перед тем как проводить А/B-тест, необходимо сформулировать нулевую и альтернативную гипотезы. Напомним изначальное условие: команда разработчиков рекомендательных систем создала новый алгоритм, который, по их мнению, будет показывать более интересный контент для каждого пользователя.\n"
   ]
  },
  {
   "cell_type": "markdown",
   "metadata": {
    "id": "RiKI8eT49h3F"
   },
   "source": [
    "- Метрика - доля успешных сессий\n",
    "\n",
    "- Нулевая гипотеза: Доля успешных сессий не различается.\n",
    "- Альтернативная гипотеза: Доля успешных сессий стала больше.\n",
    "\n",
    "\n",
    "\n"
   ]
  },
  {
   "cell_type": "markdown",
   "metadata": {
    "id": "uzaeln270eMt"
   },
   "source": [
    "#### 2.2. Расчёт размера выборки"
   ]
  },
  {
   "cell_type": "code",
   "execution_count": 12,
   "metadata": {
    "id": "zSxJyPGPNdaI"
   },
   "outputs": [],
   "source": [
    "from statsmodels.stats.power import NormalIndPower\n",
    "from statsmodels.stats.proportion import proportion_effectsize\n",
    "\n",
    "# Задаём параметры\n",
    "alpha = 0.05  # Уровень значимости\n",
    "beta = 0.2  # Ошибка второго рода, часто 1 - мощность\n",
    "power = 1 - beta  # Мощность теста\n",
    "p = 0.3 # Базовый уровень доли\n",
    "mde = 0.1 * p  # Минимальный детектируемый эффект"
   ]
  },
  {
   "cell_type": "code",
   "execution_count": 23,
   "metadata": {
    "id": "zSxJyPGPNdaI"
   },
   "outputs": [
    {
     "name": "stdout",
     "output_type": "stream",
     "text": [
      "Необходимый размер выборки для каждой группы: 17441\n"
     ]
    }
   ],
   "source": [
    "# Инициализируем класс NormalIndPower\n",
    "power_analysis = NormalIndPower()\n",
    "\n",
    "# Рассчитываем размер выборки\n",
    "sample_size = power_analysis.solve_power(\n",
    "    effect_size = mde,\n",
    "    power = power,\n",
    "    alpha = alpha,\n",
    "    ratio = 1 # Равномерное распределение выборок\n",
    ")\n",
    "\n",
    "print(f\"Необходимый размер выборки для каждой группы: {int(sample_size)}\")"
   ]
  },
  {
   "cell_type": "markdown",
   "metadata": {
    "id": "qLEv4RoV0eMu"
   },
   "source": [
    "#### 2.3. Расчёт длительности A/B-теста"
   ]
  },
  {
   "cell_type": "code",
   "execution_count": 14,
   "metadata": {
    "id": "KZDRbryDOGHa"
   },
   "outputs": [
    {
     "name": "stdout",
     "output_type": "stream",
     "text": [
      "Рассчитанная длительность A/B-теста при текущем уровене трафика в 9907.363636363636 пользователей в день составит 4 дня\n"
     ]
    }
   ],
   "source": [
    "from math import ceil\n",
    "# Среднее количество пользователей приложения в день по историческим данным\n",
    "avg_daily_users = sessions_history.groupby('session_date')['user_id'].nunique().mean()\n",
    "\n",
    "# Рассчитываем длительность теста в днях как отношение размера выборки к среднему числу пользователей\n",
    "test_duration = ceil(sample_size*2/avg_daily_users)\n",
    "\n",
    "print(f\"Рассчитанная длительность A/B-теста при текущем уровене трафика в {avg_daily_users} пользователей в день составит {test_duration} дня\")"
   ]
  },
  {
   "cell_type": "markdown",
   "metadata": {
    "id": "ZuvtAdha0eMv"
   },
   "source": [
    "### 3. Мониторинг А/В-теста"
   ]
  },
  {
   "cell_type": "markdown",
   "metadata": {
    "id": "jq5sE3Ya0eMv"
   },
   "source": [
    "#### 3.1. Проверка распределения пользователей"
   ]
  },
  {
   "cell_type": "code",
   "execution_count": 15,
   "metadata": {
    "id": "G1bqIzDJOUiz"
   },
   "outputs": [
    {
     "name": "stdout",
     "output_type": "stream",
     "text": [
      "test_group\n",
      "A    1477\n",
      "B    1466\n",
      "Name: user_id, dtype: int64\n",
      "Процентная разница в количестве пользователей в группах control и test = 0.74%\n"
     ]
    },
    {
     "data": {
      "image/png": "[encoded data removed]",
      "text/plain": [
       "<Figure size 720x432 with 1 Axes>"
      ]
     },
     "metadata": {
      "needs_background": "light"
     },
     "output_type": "display_data"
    }
   ],
   "source": [
    "sessions_test_part = pd.read_csv('https://code.s3.yandex.net/datasets/sessions_project_test_part.csv')\n",
    "uniq_users = sessions_test_part.groupby('test_group')['user_id'].nunique()\n",
    "print(uniq_users)\n",
    "perc_diff = 100*abs(uniq_users[0]-uniq_users[1])/uniq_users[0]\n",
    "print(f'Процентная разница в количестве пользователей в группах control и test = {perc_diff:.2f}%')\n",
    "plt.figure(figsize=(10, 6))\n",
    "uniq_users.plot.bar(color = ['lightblue','lightcoral'])\n",
    "plt.title('Количество пользователей по группам', fontsize=12, fontweight='bold')\n",
    "plt.ylabel('Количество пользователей', fontsize=12, fontweight='bold')\n",
    "plt.xlabel('Группа', fontsize=12, fontweight='bold')\n",
    "plt.xticks(rotation=0, fontsize=12, fontweight='bold')\n",
    "plt.show()"
   ]
  },
  {
   "cell_type": "markdown",
   "metadata": {
    "id": "sgpNY5bv0eM0"
   },
   "source": [
    "#### 3.2. Проверка пересечений пользователей"
   ]
  },
  {
   "cell_type": "code",
   "execution_count": 16,
   "metadata": {
    "id": "E72ozN9FOX1u"
   },
   "outputs": [
    {
     "name": "stdout",
     "output_type": "stream",
     "text": [
      "Количество пересечений =  0\n"
     ]
    }
   ],
   "source": [
    "group_A = sessions_test_part[sessions_test_part['test_group']=='A']\n",
    "group_B = sessions_test_part[sessions_test_part['test_group']=='B']\n",
    "c = set(group_A['user_id']).intersection(set(group_B['user_id']))\n",
    "print('Количество пересечений = ', len(c))"
   ]
  },
  {
   "cell_type": "markdown",
   "metadata": {
    "id": "6RvkNLrg0eM1"
   },
   "source": [
    "#### 3.3. Равномерность разделения пользователей по устройствам"
   ]
  },
  {
   "cell_type": "code",
   "execution_count": 17,
   "metadata": {},
   "outputs": [
    {
     "data": {
      "image/png": "[encoded data removed]",
      "text/plain": [
       "<Figure size 864x576 with 1 Axes>"
      ]
     },
     "metadata": {
      "needs_background": "light"
     },
     "output_type": "display_data"
    }
   ],
   "source": [
    "group_A_device = group_A.groupby('device')['user_id'].nunique().reset_index()\n",
    "group_A_device['share'] = group_A_device['user_id'] / group_A_device['user_id'].sum()\n",
    "\n",
    "group_B_device = group_B.groupby('device')['user_id'].nunique().reset_index()\n",
    "group_B_device['share'] = group_B_device['user_id'] / group_B_device['user_id'].sum()\n",
    "\n",
    "devices = group_A_device['device'].unique()\n",
    "x_pos = np.arange(len(devices))\n",
    "width = 0.35\n",
    "\n",
    "fig, ax = plt.subplots(figsize=(12, 8))\n",
    "bars1 = ax.bar(x_pos - width/2, group_A_device['share'] * 100, width, \n",
    "               label='Группа A', color='lightblue', alpha=0.8)\n",
    "bars2 = ax.bar(x_pos + width/2, group_B_device['share'] * 100, width, \n",
    "               label='Группа B', color='lightcoral', alpha=0.8)\n",
    "\n",
    "ax.set_xlabel('Тип устройства', fontsize=12, fontweight='bold')\n",
    "ax.set_ylabel('Доля пользователей, %', fontsize=12, fontweight='bold')\n",
    "ax.set_title('Распределение пользователей по устройствам (доли)', \n",
    "             fontsize=14, fontweight='bold', pad=20)\n",
    "ax.set_xticks(x_pos)\n",
    "ax.set_xticklabels(devices)\n",
    "ax.legend()\n",
    "ax.grid(True, alpha=0.3)\n",
    "for bar in bars1:\n",
    "    ax.text(bar.get_x() + bar.get_width()/2, bar.get_height() + 0.5, \n",
    "            f'{bar.get_height():.1f}%', ha='center', va='bottom', fontsize=9)\n",
    "for bar in bars2:\n",
    "    ax.text(bar.get_x() + bar.get_width()/2, bar.get_height() + 0.5, \n",
    "            f'{bar.get_height():.1f}%', ha='center', va='bottom', fontsize=9)\n",
    "\n",
    "plt.tight_layout()\n",
    "plt.show()"
   ]
  },
  {
   "cell_type": "markdown",
   "metadata": {
    "id": "gAgmP6vo0eM1"
   },
   "source": [
    "#### 3.4. Равномерность распределения пользователей по регионам"
   ]
  },
  {
   "cell_type": "code",
   "execution_count": 18,
   "metadata": {},
   "outputs": [
    {
     "data": {
      "image/png": "[encoded data removed]",
      "text/plain": [
       "<Figure size 1008x504 with 2 Axes>"
      ]
     },
     "metadata": {},
     "output_type": "display_data"
    }
   ],
   "source": [
    "group_A_region = group_A.groupby('region')['user_id'].nunique().reset_index()\n",
    "group_B_region = group_B.groupby('region')['user_id'].nunique().reset_index()\n",
    "fig, (ax1, ax2) = plt.subplots(1, 2, figsize=(14, 7))\n",
    "\n",
    "ax1.pie(group_A_region['user_id'], \n",
    "        labels=group_A_region['region'], \n",
    "        autopct='%1.1f%%',\n",
    "        colors=['#ff9999', '#66b3ff', '#99ff99', '#ffcc99', '#ff99cc', '#cc99ff'],\n",
    "        startangle=90)\n",
    "ax1.set_title('Группа A\\nРаспределение по регионам', fontsize=14, fontweight='bold')\n",
    "ax1.axis('equal')\n",
    "ax2.pie(group_B_region['user_id'], \n",
    "        labels=group_B_region['region'], \n",
    "        autopct='%1.1f%%',\n",
    "        colors=['#ff9999', '#66b3ff', '#99ff99', '#ffcc99', '#ff99cc', '#cc99ff'],\n",
    "        startangle=90)\n",
    "\n",
    "ax2.set_title('Группа B\\nРаспределение по регионам', fontsize=14, fontweight='bold')\n",
    "ax2.axis('equal')\n",
    "plt.suptitle('Сравнение распределения пользователей по регионам\\nмежду группами A и B', \n",
    "             fontsize=16, fontweight='bold', y=0.95)\n",
    "plt.tight_layout()\n",
    "plt.show()"
   ]
  },
  {
   "cell_type": "markdown",
   "metadata": {
    "id": "X2WSZ-sDrSUi"
   },
   "source": [
    "#### 3.5. Вывод после проверки A/B-теста\n"
   ]
  },
  {
   "cell_type": "markdown",
   "metadata": {},
   "source": [
    "На основе проведённого анализа A/B-теста не было обнаружено значимых различий в количестве пользователей в двух группах, меньше 1%. Выборки независимые, пользователи из тестовой и контрольной группы не пересекаются. \n",
    "\n",
    "Равномерное распределение пользователей тестовой и контрольной групп по категориальным переменным: устройствам и регионам сохраняется. Данные для A/B-теста подходят."
   ]
  },
  {
   "cell_type": "markdown",
   "metadata": {
    "id": "nudRr_BQ0eM2"
   },
   "source": [
    "### 4. Проверка результатов A/B-теста\n",
    "\n",
    "A/B-тест завершён, и у вас есть результаты за все дни проведения эксперимента. Необходимо убедиться в корректности теста и верно интерпретировать результаты."
   ]
  },
  {
   "cell_type": "markdown",
   "metadata": {
    "id": "JVve-YBB0eM2"
   },
   "source": [
    "#### 4.1. Получение результатов теста и подсчёт основной метрики"
   ]
  },
  {
   "cell_type": "code",
   "execution_count": 19,
   "metadata": {
    "id": "EqRlwMtKPTir"
   },
   "outputs": [],
   "source": [
    "sessions_test = pd.read_csv('https://code.s3.yandex.net/datasets/sessions_project_test.csv')\n",
    "def good(row):\n",
    "    if row['page_counter']>=4:\n",
    "        return 1\n",
    "    else: \n",
    "        return 0\n",
    "sessions_test['good_session'] = sessions_test.apply(good,axis = 1)"
   ]
  },
  {
   "cell_type": "markdown",
   "metadata": {
    "id": "aeYhrMYy0eM2"
   },
   "source": [
    "#### 4.2. Проверка корректности результатов теста"
   ]
  },
  {
   "cell_type": "markdown",
   "metadata": {},
   "source": [
    "- Метрика - Кол-во сессий(будем работать с session_id)\n",
    "- Нулевая гипотеза: Кол-во сессий не различается.\n",
    "- Альтернативная гипотеза: Кол-во сессий различается."
   ]
  },
  {
   "cell_type": "code",
   "execution_count": 20,
   "metadata": {
    "id": "5NUlcltkTTSU"
   },
   "outputs": [
    {
     "name": "stdout",
     "output_type": "stream",
     "text": [
      "p-value = 0.94\n",
      "Нулевая гипотеза находит подтверждение! Выборочные средние в группах A и B равны\n",
      "Интерпретация: создание нового алгоритма рекомендаций не увеличило кол-во сессий\n"
     ]
    }
   ],
   "source": [
    "uniq_sessions_A = sessions_test[sessions_test['test_group']=='A'].groupby('session_date')['session_id'].nunique()\n",
    "uniq_sessions_B = sessions_test[sessions_test['test_group']=='B'].groupby('session_date')['session_id'].nunique()\n",
    "result = st.ttest_ind(uniq_sessions_A,uniq_sessions_B, alternative ='two-sided')\n",
    "alpha = 0.05\n",
    "if result.pvalue>alpha:\n",
    "    print(f'p-value = {round(result.pvalue, 2)}')\n",
    "    print('Нулевая гипотеза находит подтверждение! Выборочные средние в группах A и B равны')\n",
    "    print('Интерпретация: создание нового алгоритма рекомендаций не увеличило кол-во сессий')\n",
    "else:\n",
    "    print(f'p-value = {round(result.pvalue, 2)}')\n",
    "    print('Нулевая гипотеза не находит подтверждения! Выборочные средние в группах A и B не равны, и в группе B больше')\n",
    "    print('Интерпретация: создание нового алгоритма рекомендаций увеличило кол-во сессий')"
   ]
  },
  {
   "cell_type": "markdown",
   "metadata": {
    "id": "7kwRxzg70eM3"
   },
   "source": [
    "#### 4.3. Сравнение доли успешных сессий"
   ]
  },
  {
   "cell_type": "code",
   "execution_count": 21,
   "metadata": {
    "id": "Uku-V1CpPRCz"
   },
   "outputs": [
    {
     "name": "stdout",
     "output_type": "stream",
     "text": [
      "Доли успешных сессий: группы А - 0.308, группы B - 0.318\n",
      "Разница долей: 1.1%\n"
     ]
    }
   ],
   "source": [
    "all_sessions_a = sessions_test[sessions_test['test_group']=='A']\n",
    "all_sessions_b = sessions_test[sessions_test['test_group']=='B']\n",
    "success_a = all_sessions_a[all_sessions_a['good_session']==1]['session_id'].nunique()/all_sessions_a['session_id'].nunique()\n",
    "success_b = all_sessions_b[all_sessions_b['good_session']==1]['session_id'].nunique()/all_sessions_b['session_id'].nunique()\n",
    "print(f'Доли успешных сессий: группы А - {round(success_a, 3)}, группы B - {round(success_b, 3)}')\n",
    "print(f'Разница долей: {round(abs(success_a - success_b)*100,1)}%')"
   ]
  },
  {
   "cell_type": "markdown",
   "metadata": {
    "id": "9fMFuja10eM4"
   },
   "source": [
    "#### 4.4. Насколько статистически значимо изменение ключевой метрики"
   ]
  },
  {
   "cell_type": "markdown",
   "metadata": {},
   "source": [
    "- Метрика - доля успешных сессий (будем работать с good_session)\n",
    "- Нулевая гипотеза: Доля успешных сессий не различается.\n",
    "- Альтернативная гипотеза: Доля успешных сессий стала больше."
   ]
  },
  {
   "cell_type": "code",
   "execution_count": 22,
   "metadata": {
    "id": "gFvhRGwlPLS0"
   },
   "outputs": [
    {
     "name": "stdout",
     "output_type": "stream",
     "text": [
      "Предпосылка о достаточном количестве данных выполняется!\n",
      "pvalue=0.0002\n",
      "Нулевая гипотеза не находит подтверждения!\n",
      "При создании нового алгоритма рекомендаций, доля успешных сессий увеличилась\n"
     ]
    }
   ],
   "source": [
    "from statsmodels.stats.proportion import proportions_ztest\n",
    "n_a,n_b = all_sessions_a['session_id'].nunique(),all_sessions_b['session_id'].nunique()\n",
    "m_a,m_b = all_sessions_a[all_sessions_a['good_session']==1]['session_id'].nunique(),all_sessions_b[all_sessions_b['good_session']==1]['session_id'].nunique()\n",
    "p_a,p_b = m_a/n_a,m_b/n_b\n",
    "alpha = 0.05\n",
    "if (p_a*n_a > 10)and((1-p_a)*n_a > 10)and(p_b*n_b > 10)and((1-p_b)*n_b > 10):\n",
    "    print('Предпосылка о достаточном количестве данных выполняется!')\n",
    "else:\n",
    "    print('Предпосылка о достаточном количестве данных НЕ выполняется!')\n",
    "\n",
    "alpha =  0.05\n",
    "\n",
    "\n",
    "stat_ztest, p_value_ztest = proportions_ztest([m_b, m_a],[n_b, n_a], alternative='larger')\n",
    "\n",
    "print(f'pvalue={p_value_ztest:.4f}')\n",
    "\n",
    "if p_value_ztest > alpha:\n",
    "    print('Нулевая гипотеза находит подтверждение!')\n",
    "else:\n",
    "    print('Нулевая гипотеза не находит подтверждения!')\n",
    "\n",
    "text_interpretation = 'увеличилась'\n",
    "\n",
    "print(f'При создании нового алгоритма рекомендаций, доля успешных сессий {text_interpretation}')"
   ]
  },
  {
   "cell_type": "markdown",
   "metadata": {
    "id": "GnJrkY9Q63zS"
   },
   "source": [
    "#### 4.5. Вывод по результатам A/B-эксперимента"
   ]
  },
  {
   "cell_type": "markdown",
   "metadata": {
    "id": "rri8KRIgPMrW"
   },
   "source": [
    "Количество задействованных пользователей - 34882 человека и длительность эксперимента - 4 дня.\n",
    "\n",
    "Внедрение нового алгоритма рекомендаций повлияло на рост ключевой метрики на 1.1%.\n",
    "\n",
    "p-value = 0.0002.\n",
    "\n",
    "Внедрить нововведение стоит для всех пользователей. Алгоритм доказал свою эффективность, статистически значимо увеличив долю сессий, в которых пользователи просматривают 4 и более страниц."
   ]
  }
 ],
 "metadata": {
  "ExecuteTimeLog": [
   {
    "duration": 509,
    "start_time": "2025-09-15T18:31:30.243Z"
   },
   {
    "duration": 72,
    "start_time": "2025-09-15T18:32:30.082Z"
   },
   {
    "duration": 77,
    "start_time": "2025-09-15T18:32:57.966Z"
   },
   {
    "duration": 1726,
    "start_time": "2025-09-15T18:37:08.235Z"
   },
   {
    "duration": 49,
    "start_time": "2025-09-16T10:09:04.456Z"
   },
   {
    "duration": 2681,
    "start_time": "2025-09-16T10:09:06.945Z"
   },
   {
    "duration": 105,
    "start_time": "2025-09-16T10:09:09.821Z"
   },
   {
    "duration": 114,
    "start_time": "2025-09-16T10:11:30.090Z"
   },
   {
    "duration": 82,
    "start_time": "2025-09-16T10:11:40.336Z"
   },
   {
    "duration": 343,
    "start_time": "2025-09-16T10:18:39.642Z"
   },
   {
    "duration": 340,
    "start_time": "2025-09-16T10:20:42.251Z"
   },
   {
    "duration": 8,
    "start_time": "2025-09-16T10:20:57.108Z"
   },
   {
    "duration": 337,
    "start_time": "2025-09-16T10:21:11.410Z"
   },
   {
    "duration": 329,
    "start_time": "2025-09-16T10:22:02.633Z"
   },
   {
    "duration": 324,
    "start_time": "2025-09-16T10:22:33.664Z"
   },
   {
    "duration": 308,
    "start_time": "2025-09-16T10:23:20.245Z"
   },
   {
    "duration": 305,
    "start_time": "2025-09-16T10:24:41.797Z"
   },
   {
    "duration": 347,
    "start_time": "2025-09-16T10:24:46.106Z"
   },
   {
    "duration": 326,
    "start_time": "2025-09-16T10:25:02.305Z"
   },
   {
    "duration": 307,
    "start_time": "2025-09-16T10:25:21.332Z"
   },
   {
    "duration": 3,
    "start_time": "2025-09-16T10:26:04.948Z"
   },
   {
    "duration": 1044,
    "start_time": "2025-09-16T10:26:08.515Z"
   },
   {
    "duration": 288,
    "start_time": "2025-09-16T10:26:19.579Z"
   },
   {
    "duration": 312,
    "start_time": "2025-09-16T10:26:28.412Z"
   },
   {
    "duration": 316,
    "start_time": "2025-09-16T10:26:36.590Z"
   },
   {
    "duration": 309,
    "start_time": "2025-09-16T10:26:44.578Z"
   },
   {
    "duration": 1095,
    "start_time": "2025-09-16T10:26:55.303Z"
   },
   {
    "duration": 2418,
    "start_time": "2025-09-16T10:27:01.682Z"
   },
   {
    "duration": 312,
    "start_time": "2025-09-16T10:27:10.554Z"
   },
   {
    "duration": 295,
    "start_time": "2025-09-16T10:27:25.925Z"
   },
   {
    "duration": 313,
    "start_time": "2025-09-16T10:28:12.182Z"
   },
   {
    "duration": 324,
    "start_time": "2025-09-16T10:28:22.751Z"
   },
   {
    "duration": 349,
    "start_time": "2025-09-16T10:29:23.400Z"
   },
   {
    "duration": 351,
    "start_time": "2025-09-16T10:29:32.053Z"
   },
   {
    "duration": 62,
    "start_time": "2025-09-16T10:37:28.674Z"
   },
   {
    "duration": 60,
    "start_time": "2025-09-16T10:37:36.473Z"
   },
   {
    "duration": 62,
    "start_time": "2025-09-16T10:37:44.656Z"
   },
   {
    "duration": 71,
    "start_time": "2025-09-16T10:39:23.950Z"
   },
   {
    "duration": 601,
    "start_time": "2025-09-16T10:39:44.190Z"
   },
   {
    "duration": 227,
    "start_time": "2025-09-16T10:39:50.933Z"
   },
   {
    "duration": 78,
    "start_time": "2025-09-16T10:40:29.805Z"
   },
   {
    "duration": 1790,
    "start_time": "2025-09-16T10:40:55.630Z"
   },
   {
    "duration": 60,
    "start_time": "2025-09-16T10:40:58.457Z"
   },
   {
    "duration": 61,
    "start_time": "2025-09-16T10:40:59.794Z"
   },
   {
    "duration": 1540,
    "start_time": "2025-09-16T10:41:05.111Z"
   },
   {
    "duration": 59,
    "start_time": "2025-09-16T10:41:08.671Z"
   },
   {
    "duration": 57,
    "start_time": "2025-09-16T10:41:35.329Z"
   },
   {
    "duration": 1577,
    "start_time": "2025-09-16T10:42:00.779Z"
   },
   {
    "duration": 180,
    "start_time": "2025-09-16T10:42:07.157Z"
   },
   {
    "duration": 181,
    "start_time": "2025-09-16T10:42:11.498Z"
   },
   {
    "duration": 295,
    "start_time": "2025-09-16T10:42:41.758Z"
   },
   {
    "duration": 71,
    "start_time": "2025-09-16T10:43:01.516Z"
   },
   {
    "duration": 209,
    "start_time": "2025-09-16T10:43:04.395Z"
   },
   {
    "duration": 200,
    "start_time": "2025-09-16T10:43:09.196Z"
   },
   {
    "duration": 213,
    "start_time": "2025-09-16T10:43:23.997Z"
   },
   {
    "duration": 210,
    "start_time": "2025-09-16T10:43:42.386Z"
   },
   {
    "duration": 227,
    "start_time": "2025-09-16T10:44:32.353Z"
   },
   {
    "duration": 227,
    "start_time": "2025-09-16T10:45:33.841Z"
   },
   {
    "duration": 203,
    "start_time": "2025-09-16T10:45:38.848Z"
   },
   {
    "duration": 209,
    "start_time": "2025-09-16T10:45:53.676Z"
   },
   {
    "duration": 87,
    "start_time": "2025-09-16T10:46:07.518Z"
   },
   {
    "duration": 64,
    "start_time": "2025-09-16T10:46:19.782Z"
   },
   {
    "duration": 222,
    "start_time": "2025-09-16T10:46:23.224Z"
   },
   {
    "duration": 222,
    "start_time": "2025-09-16T10:46:47.744Z"
   },
   {
    "duration": 289,
    "start_time": "2025-09-16T10:47:42.675Z"
   },
   {
    "duration": 224,
    "start_time": "2025-09-16T10:48:04.278Z"
   },
   {
    "duration": 176,
    "start_time": "2025-09-16T10:49:07.225Z"
   },
   {
    "duration": 5,
    "start_time": "2025-09-16T10:50:00.555Z"
   },
   {
    "duration": 29,
    "start_time": "2025-09-16T10:52:36.074Z"
   },
   {
    "duration": 38,
    "start_time": "2025-09-16T10:55:59.926Z"
   },
   {
    "duration": 148,
    "start_time": "2025-09-16T10:56:43.000Z"
   },
   {
    "duration": 169,
    "start_time": "2025-09-16T10:57:01.734Z"
   },
   {
    "duration": 176,
    "start_time": "2025-09-16T10:57:45.834Z"
   },
   {
    "duration": 175,
    "start_time": "2025-09-16T10:58:04.389Z"
   },
   {
    "duration": 171,
    "start_time": "2025-09-16T10:58:08.961Z"
   },
   {
    "duration": 167,
    "start_time": "2025-09-16T10:58:21.613Z"
   },
   {
    "duration": 84,
    "start_time": "2025-09-16T11:06:47.492Z"
   },
   {
    "duration": 115,
    "start_time": "2025-09-16T11:07:25.202Z"
   },
   {
    "duration": 2515,
    "start_time": "2025-09-16T11:07:39.278Z"
   },
   {
    "duration": 31,
    "start_time": "2025-09-16T11:10:39.669Z"
   },
   {
    "duration": 31,
    "start_time": "2025-09-16T11:10:56.559Z"
   },
   {
    "duration": 30,
    "start_time": "2025-09-16T11:11:04.503Z"
   },
   {
    "duration": 32,
    "start_time": "2025-09-16T11:11:12.298Z"
   },
   {
    "duration": 29,
    "start_time": "2025-09-16T11:11:22.751Z"
   },
   {
    "duration": 57,
    "start_time": "2025-09-16T11:12:08.690Z"
   },
   {
    "duration": 51,
    "start_time": "2025-09-16T11:12:40.070Z"
   },
   {
    "duration": 811,
    "start_time": "2025-09-16T11:13:34.866Z"
   },
   {
    "duration": 504,
    "start_time": "2025-09-16T11:13:41.591Z"
   },
   {
    "duration": 179,
    "start_time": "2025-09-16T11:13:54.806Z"
   },
   {
    "duration": 626,
    "start_time": "2025-09-16T11:14:00.215Z"
   },
   {
    "duration": 236,
    "start_time": "2025-09-16T11:14:13.406Z"
   },
   {
    "duration": 933,
    "start_time": "2025-09-16T11:15:01.762Z"
   },
   {
    "duration": 218,
    "start_time": "2025-09-16T11:15:12.696Z"
   },
   {
    "duration": 190,
    "start_time": "2025-09-16T11:15:28.482Z"
   },
   {
    "duration": 198,
    "start_time": "2025-09-16T11:20:54.562Z"
   },
   {
    "duration": 984,
    "start_time": "2025-09-16T11:23:35.918Z"
   },
   {
    "duration": 564,
    "start_time": "2025-09-16T11:25:52.034Z"
   },
   {
    "duration": 16,
    "start_time": "2025-09-16T11:26:16.366Z"
   },
   {
    "duration": 980,
    "start_time": "2025-09-16T16:45:51.571Z"
   },
   {
    "duration": 68,
    "start_time": "2025-09-19T16:16:36.739Z"
   },
   {
    "duration": 49,
    "start_time": "2025-09-19T16:16:40.708Z"
   },
   {
    "duration": 7,
    "start_time": "2025-09-19T16:20:16.192Z"
   },
   {
    "duration": 2868,
    "start_time": "2025-09-19T16:20:22.114Z"
   },
   {
    "duration": 367,
    "start_time": "2025-09-19T16:20:24.984Z"
   },
   {
    "duration": 399,
    "start_time": "2025-09-19T16:20:25.353Z"
   },
   {
    "duration": 338,
    "start_time": "2025-09-19T16:20:25.754Z"
   },
   {
    "duration": 248,
    "start_time": "2025-09-19T16:20:26.098Z"
   },
   {
    "duration": 205,
    "start_time": "2025-09-19T16:20:26.348Z"
   },
   {
    "duration": 3161,
    "start_time": "2025-09-19T16:20:26.554Z"
   },
   {
    "duration": 252,
    "start_time": "2025-09-19T16:20:29.717Z"
   },
   {
    "duration": 539,
    "start_time": "2025-09-19T16:20:29.972Z"
   },
   {
    "duration": 127,
    "start_time": "2025-09-19T16:20:30.513Z"
   },
   {
    "duration": 0,
    "start_time": "2025-09-19T16:20:30.643Z"
   },
   {
    "duration": 186,
    "start_time": "2025-09-19T16:21:11.153Z"
   },
   {
    "duration": 173,
    "start_time": "2025-09-19T16:21:50.403Z"
   },
   {
    "duration": 170,
    "start_time": "2025-09-19T16:22:05.501Z"
   },
   {
    "duration": 168,
    "start_time": "2025-09-19T16:22:16.404Z"
   },
   {
    "duration": 160,
    "start_time": "2025-09-19T16:22:22.122Z"
   },
   {
    "duration": 212,
    "start_time": "2025-09-19T16:24:50.401Z"
   },
   {
    "duration": 167,
    "start_time": "2025-09-19T16:25:02.137Z"
   },
   {
    "duration": 15,
    "start_time": "2025-09-19T16:25:46.931Z"
   },
   {
    "duration": 16,
    "start_time": "2025-09-19T16:26:09.649Z"
   },
   {
    "duration": 181,
    "start_time": "2025-09-19T16:26:12.797Z"
   },
   {
    "duration": 172,
    "start_time": "2025-09-19T16:26:21.730Z"
   },
   {
    "duration": 56,
    "start_time": "2025-09-19T16:29:03.164Z"
   },
   {
    "duration": 60,
    "start_time": "2025-09-19T16:29:39.059Z"
   },
   {
    "duration": 56,
    "start_time": "2025-09-19T16:29:41.452Z"
   },
   {
    "duration": 56,
    "start_time": "2025-09-19T16:30:52.617Z"
   },
   {
    "duration": 43,
    "start_time": "2025-09-19T16:30:55.657Z"
   },
   {
    "duration": 43,
    "start_time": "2025-09-19T16:31:00.543Z"
   },
   {
    "duration": 40,
    "start_time": "2025-09-19T16:31:05.825Z"
   },
   {
    "duration": 63,
    "start_time": "2025-09-19T16:31:53.433Z"
   },
   {
    "duration": 47,
    "start_time": "2025-09-19T16:32:00.312Z"
   },
   {
    "duration": 82,
    "start_time": "2025-09-19T16:32:20.443Z"
   },
   {
    "duration": 53,
    "start_time": "2025-09-19T16:33:13.191Z"
   },
   {
    "duration": 798,
    "start_time": "2025-09-19T16:33:23.645Z"
   },
   {
    "duration": 953,
    "start_time": "2025-09-19T16:35:27.876Z"
   },
   {
    "duration": 95,
    "start_time": "2025-09-19T16:40:36.576Z"
   },
   {
    "duration": 804,
    "start_time": "2025-09-19T16:41:12.853Z"
   },
   {
    "duration": 806,
    "start_time": "2025-09-19T16:41:39.324Z"
   },
   {
    "duration": 67,
    "start_time": "2025-09-19T16:41:49.002Z"
   },
   {
    "duration": 180,
    "start_time": "2025-09-19T16:42:05.001Z"
   },
   {
    "duration": 158,
    "start_time": "2025-09-19T16:42:11.059Z"
   },
   {
    "duration": 63,
    "start_time": "2025-09-19T16:42:49.370Z"
   },
   {
    "duration": 49,
    "start_time": "2025-09-19T16:43:55.147Z"
   },
   {
    "duration": 54,
    "start_time": "2025-09-19T16:43:58.904Z"
   },
   {
    "duration": 53,
    "start_time": "2025-09-19T16:44:10.220Z"
   },
   {
    "duration": 173,
    "start_time": "2025-09-19T16:44:15.239Z"
   },
   {
    "duration": 66,
    "start_time": "2025-09-19T16:44:19.585Z"
   },
   {
    "duration": 60,
    "start_time": "2025-09-19T16:44:43.339Z"
   },
   {
    "duration": 200,
    "start_time": "2025-09-19T16:44:53.351Z"
   },
   {
    "duration": 156,
    "start_time": "2025-09-19T16:45:10.218Z"
   },
   {
    "duration": 197,
    "start_time": "2025-09-19T16:46:55.801Z"
   },
   {
    "duration": 172,
    "start_time": "2025-09-19T16:47:10.122Z"
   },
   {
    "duration": 202,
    "start_time": "2025-09-19T16:47:44.819Z"
   },
   {
    "duration": 202,
    "start_time": "2025-09-19T16:47:56.634Z"
   },
   {
    "duration": 203,
    "start_time": "2025-09-19T16:48:37.846Z"
   },
   {
    "duration": 189,
    "start_time": "2025-09-19T16:49:27.883Z"
   },
   {
    "duration": 214,
    "start_time": "2025-09-19T16:49:40.517Z"
   },
   {
    "duration": 200,
    "start_time": "2025-09-19T16:50:24.804Z"
   },
   {
    "duration": 225,
    "start_time": "2025-09-19T16:50:55.135Z"
   },
   {
    "duration": 203,
    "start_time": "2025-09-19T16:51:28.015Z"
   },
   {
    "duration": 303,
    "start_time": "2025-09-19T16:51:43.665Z"
   },
   {
    "duration": 185,
    "start_time": "2025-09-19T16:51:48.580Z"
   },
   {
    "duration": 189,
    "start_time": "2025-09-19T16:51:53.714Z"
   },
   {
    "duration": 187,
    "start_time": "2025-09-19T16:52:13.650Z"
   },
   {
    "duration": 198,
    "start_time": "2025-09-19T16:52:54.064Z"
   },
   {
    "duration": 192,
    "start_time": "2025-09-19T16:53:30.694Z"
   },
   {
    "duration": 186,
    "start_time": "2025-09-19T16:53:41.164Z"
   },
   {
    "duration": 13,
    "start_time": "2025-09-19T16:55:39.560Z"
   },
   {
    "duration": 14,
    "start_time": "2025-09-19T16:56:13.664Z"
   },
   {
    "duration": 15,
    "start_time": "2025-09-19T16:56:28.531Z"
   },
   {
    "duration": 7,
    "start_time": "2025-09-19T16:57:18.182Z"
   },
   {
    "duration": 7,
    "start_time": "2025-09-19T16:57:42.785Z"
   },
   {
    "duration": 61,
    "start_time": "2025-09-19T16:57:57.315Z"
   },
   {
    "duration": 12,
    "start_time": "2025-09-19T16:58:01.416Z"
   },
   {
    "duration": 598,
    "start_time": "2025-09-19T18:12:34.898Z"
   },
   {
    "duration": 2832,
    "start_time": "2025-09-19T18:12:42.643Z"
   },
   {
    "duration": 355,
    "start_time": "2025-09-19T18:12:45.477Z"
   },
   {
    "duration": 419,
    "start_time": "2025-09-19T18:12:45.834Z"
   },
   {
    "duration": 301,
    "start_time": "2025-09-19T18:12:46.255Z"
   },
   {
    "duration": 221,
    "start_time": "2025-09-19T18:12:46.559Z"
   },
   {
    "duration": 211,
    "start_time": "2025-09-19T18:12:46.782Z"
   },
   {
    "duration": 2893,
    "start_time": "2025-09-19T18:12:46.998Z"
   },
   {
    "duration": 257,
    "start_time": "2025-09-19T18:12:49.893Z"
   },
   {
    "duration": 500,
    "start_time": "2025-09-19T18:12:50.151Z"
   },
   {
    "duration": 196,
    "start_time": "2025-09-19T18:12:50.653Z"
   },
   {
    "duration": 262,
    "start_time": "2025-09-19T18:12:50.851Z"
   },
   {
    "duration": 120,
    "start_time": "2025-09-19T18:12:51.116Z"
   },
   {
    "duration": 0,
    "start_time": "2025-09-19T18:12:51.238Z"
   },
   {
    "duration": 0,
    "start_time": "2025-09-19T18:12:51.239Z"
   },
   {
    "duration": 11,
    "start_time": "2025-09-19T18:13:07.303Z"
   },
   {
    "duration": 3,
    "start_time": "2025-09-19T18:14:04.033Z"
   },
   {
    "duration": 5,
    "start_time": "2025-09-19T18:14:14.422Z"
   },
   {
    "duration": 7,
    "start_time": "2025-09-19T18:14:47.397Z"
   },
   {
    "duration": 8,
    "start_time": "2025-09-19T18:15:00.455Z"
   },
   {
    "duration": 9,
    "start_time": "2025-09-19T18:15:18.318Z"
   },
   {
    "duration": 9,
    "start_time": "2025-09-19T18:17:50.670Z"
   },
   {
    "duration": 11,
    "start_time": "2025-09-19T18:18:03.344Z"
   },
   {
    "duration": 287,
    "start_time": "2025-09-19T18:21:29.063Z"
   },
   {
    "duration": 147,
    "start_time": "2025-09-19T18:22:10.154Z"
   },
   {
    "duration": 1298,
    "start_time": "2025-09-19T18:23:01.819Z"
   },
   {
    "duration": 996,
    "start_time": "2025-09-19T18:23:12.879Z"
   },
   {
    "duration": 440,
    "start_time": "2025-09-19T18:23:22.222Z"
   },
   {
    "duration": 175,
    "start_time": "2025-09-19T18:23:30.980Z"
   },
   {
    "duration": 22,
    "start_time": "2025-09-19T18:24:01.027Z"
   },
   {
    "duration": 24,
    "start_time": "2025-09-19T18:24:12.300Z"
   },
   {
    "duration": 34,
    "start_time": "2025-09-19T18:24:49.852Z"
   },
   {
    "duration": 26,
    "start_time": "2025-09-19T18:26:37.363Z"
   },
   {
    "duration": 27,
    "start_time": "2025-09-19T18:26:39.790Z"
   },
   {
    "duration": 121,
    "start_time": "2025-09-19T18:26:44.044Z"
   },
   {
    "duration": 131,
    "start_time": "2025-09-19T18:26:46.008Z"
   },
   {
    "duration": 87,
    "start_time": "2025-09-19T18:27:05.367Z"
   },
   {
    "duration": 88,
    "start_time": "2025-09-19T18:27:28.173Z"
   },
   {
    "duration": 129,
    "start_time": "2025-09-19T18:27:48.161Z"
   },
   {
    "duration": 409,
    "start_time": "2025-09-19T18:30:14.146Z"
   },
   {
    "duration": 381,
    "start_time": "2025-09-19T18:31:31.284Z"
   },
   {
    "duration": 174,
    "start_time": "2025-09-19T18:32:14.844Z"
   },
   {
    "duration": 166,
    "start_time": "2025-09-19T18:32:27.678Z"
   },
   {
    "duration": 266,
    "start_time": "2025-09-19T18:32:34.211Z"
   },
   {
    "duration": 396,
    "start_time": "2025-09-19T18:32:43.266Z"
   },
   {
    "duration": 393,
    "start_time": "2025-09-19T18:32:47.361Z"
   },
   {
    "duration": 143,
    "start_time": "2025-09-19T18:33:04.815Z"
   },
   {
    "duration": 414,
    "start_time": "2025-09-19T18:33:18.361Z"
   },
   {
    "duration": 437,
    "start_time": "2025-09-19T18:33:19.481Z"
   },
   {
    "duration": 58,
    "start_time": "2025-09-19T18:33:27.161Z"
   },
   {
    "duration": 174,
    "start_time": "2025-09-19T18:33:38.280Z"
   },
   {
    "duration": 140,
    "start_time": "2025-09-19T18:33:50.127Z"
   },
   {
    "duration": 148,
    "start_time": "2025-09-19T18:34:01.214Z"
   },
   {
    "duration": 13,
    "start_time": "2025-09-19T18:34:23.699Z"
   },
   {
    "duration": 115,
    "start_time": "2025-09-19T18:34:42.917Z"
   },
   {
    "duration": 19,
    "start_time": "2025-09-19T18:35:34.155Z"
   },
   {
    "duration": 151,
    "start_time": "2025-09-19T18:35:51.104Z"
   },
   {
    "duration": 92,
    "start_time": "2025-09-19T18:35:55.895Z"
   },
   {
    "duration": 996,
    "start_time": "2025-09-19T18:36:34.651Z"
   },
   {
    "duration": 150,
    "start_time": "2025-09-19T18:37:14.543Z"
   },
   {
    "duration": 144,
    "start_time": "2025-09-19T18:38:36.237Z"
   },
   {
    "duration": 155,
    "start_time": "2025-09-19T18:38:45.335Z"
   },
   {
    "duration": 301,
    "start_time": "2025-09-19T18:39:02.925Z"
   },
   {
    "duration": 1218,
    "start_time": "2025-09-19T18:40:15.061Z"
   },
   {
    "duration": 447,
    "start_time": "2025-09-19T18:40:24.648Z"
   },
   {
    "duration": 493,
    "start_time": "2025-09-19T18:40:34.402Z"
   },
   {
    "duration": 55,
    "start_time": "2025-09-19T18:40:47.732Z"
   },
   {
    "duration": 626,
    "start_time": "2025-09-19T18:40:54.794Z"
   },
   {
    "duration": 442,
    "start_time": "2025-09-19T18:43:29.392Z"
   },
   {
    "duration": 435,
    "start_time": "2025-09-19T18:43:41.041Z"
   },
   {
    "duration": 551,
    "start_time": "2025-09-19T18:43:56.397Z"
   },
   {
    "duration": 553,
    "start_time": "2025-09-19T18:44:56.406Z"
   },
   {
    "duration": 666,
    "start_time": "2025-09-19T18:45:09.501Z"
   },
   {
    "duration": 584,
    "start_time": "2025-09-19T18:45:27.304Z"
   },
   {
    "duration": 316,
    "start_time": "2025-09-19T18:45:48.420Z"
   },
   {
    "duration": 606,
    "start_time": "2025-09-19T18:45:59.809Z"
   },
   {
    "duration": 594,
    "start_time": "2025-09-19T18:46:47.705Z"
   },
   {
    "duration": 602,
    "start_time": "2025-09-19T18:46:52.708Z"
   },
   {
    "duration": 739,
    "start_time": "2025-09-19T18:47:10.972Z"
   },
   {
    "duration": 597,
    "start_time": "2025-09-19T18:47:18.691Z"
   },
   {
    "duration": 306,
    "start_time": "2025-09-19T18:47:36.183Z"
   },
   {
    "duration": 341,
    "start_time": "2025-09-19T18:48:29.463Z"
   },
   {
    "duration": 373,
    "start_time": "2025-09-19T18:48:35.952Z"
   },
   {
    "duration": 583,
    "start_time": "2025-09-19T18:48:53.789Z"
   },
   {
    "duration": 630,
    "start_time": "2025-09-19T18:49:01.919Z"
   },
   {
    "duration": 708,
    "start_time": "2025-09-19T18:49:11.764Z"
   },
   {
    "duration": 615,
    "start_time": "2025-09-19T18:50:22.348Z"
   },
   {
    "duration": 641,
    "start_time": "2025-09-19T18:50:40.340Z"
   },
   {
    "duration": 361,
    "start_time": "2025-09-19T18:51:22.378Z"
   },
   {
    "duration": 359,
    "start_time": "2025-09-19T18:51:34.946Z"
   },
   {
    "duration": 342,
    "start_time": "2025-09-19T18:51:40.493Z"
   },
   {
    "duration": 353,
    "start_time": "2025-09-19T18:51:45.746Z"
   },
   {
    "duration": 327,
    "start_time": "2025-09-19T18:52:11.940Z"
   },
   {
    "duration": 386,
    "start_time": "2025-09-19T18:52:22.755Z"
   },
   {
    "duration": 453,
    "start_time": "2025-09-19T18:52:32.563Z"
   },
   {
    "duration": 338,
    "start_time": "2025-09-19T18:52:36.793Z"
   },
   {
    "duration": 368,
    "start_time": "2025-09-19T18:53:04.562Z"
   },
   {
    "duration": 197,
    "start_time": "2025-09-19T18:53:09.244Z"
   },
   {
    "duration": 368,
    "start_time": "2025-09-19T18:53:25.326Z"
   },
   {
    "duration": 52,
    "start_time": "2025-09-19T18:53:48.099Z"
   },
   {
    "duration": 137,
    "start_time": "2025-09-19T18:53:55.511Z"
   },
   {
    "duration": 344,
    "start_time": "2025-09-19T18:54:07.279Z"
   },
   {
    "duration": 358,
    "start_time": "2025-09-19T18:54:46.860Z"
   },
   {
    "duration": 1149,
    "start_time": "2025-09-19T18:56:10.140Z"
   },
   {
    "duration": 205,
    "start_time": "2025-09-19T18:56:28.646Z"
   },
   {
    "duration": 185,
    "start_time": "2025-09-19T18:56:34.780Z"
   },
   {
    "duration": 179,
    "start_time": "2025-09-19T18:56:50.279Z"
   },
   {
    "duration": 330,
    "start_time": "2025-09-19T18:57:00.010Z"
   },
   {
    "duration": 474,
    "start_time": "2025-09-19T18:57:08.328Z"
   },
   {
    "duration": 337,
    "start_time": "2025-09-19T18:57:09.573Z"
   },
   {
    "duration": 347,
    "start_time": "2025-09-19T18:57:22.305Z"
   },
   {
    "duration": 353,
    "start_time": "2025-09-19T18:57:38.948Z"
   },
   {
    "duration": 409,
    "start_time": "2025-09-19T18:57:44.720Z"
   },
   {
    "duration": 352,
    "start_time": "2025-09-19T18:59:07.994Z"
   },
   {
    "duration": 386,
    "start_time": "2025-09-19T18:59:12.642Z"
   },
   {
    "duration": 374,
    "start_time": "2025-09-19T18:59:21.831Z"
   },
   {
    "duration": 367,
    "start_time": "2025-09-19T19:00:20.747Z"
   },
   {
    "duration": 177,
    "start_time": "2025-09-19T19:00:40.846Z"
   },
   {
    "duration": 142,
    "start_time": "2025-09-19T19:01:12.422Z"
   },
   {
    "duration": 472,
    "start_time": "2025-09-19T19:02:39.453Z"
   },
   {
    "duration": 144,
    "start_time": "2025-09-19T19:03:02.206Z"
   },
   {
    "duration": 372,
    "start_time": "2025-09-19T19:03:12.730Z"
   },
   {
    "duration": 336,
    "start_time": "2025-09-19T19:04:23.070Z"
   },
   {
    "duration": 306,
    "start_time": "2025-09-19T19:04:30.323Z"
   },
   {
    "duration": 344,
    "start_time": "2025-09-19T19:04:39.042Z"
   },
   {
    "duration": 322,
    "start_time": "2025-09-19T19:04:45.081Z"
   },
   {
    "duration": 178,
    "start_time": "2025-09-19T19:05:06.420Z"
   },
   {
    "duration": 186,
    "start_time": "2025-09-19T19:05:11.576Z"
   },
   {
    "duration": 196,
    "start_time": "2025-09-19T19:05:19.352Z"
   },
   {
    "duration": 211,
    "start_time": "2025-09-19T19:05:23.107Z"
   },
   {
    "duration": 494,
    "start_time": "2025-09-19T19:05:44.635Z"
   },
   {
    "duration": 10,
    "start_time": "2025-09-19T19:19:47.134Z"
   },
   {
    "duration": 10,
    "start_time": "2025-09-19T19:19:52.467Z"
   },
   {
    "duration": 1151,
    "start_time": "2025-09-19T19:24:49.932Z"
   },
   {
    "duration": 22,
    "start_time": "2025-09-19T19:24:52.279Z"
   },
   {
    "duration": 41,
    "start_time": "2025-09-19T19:25:04.181Z"
   },
   {
    "duration": 46,
    "start_time": "2025-09-19T19:25:16.020Z"
   },
   {
    "duration": 53,
    "start_time": "2025-09-19T19:26:48.233Z"
   },
   {
    "duration": 58,
    "start_time": "2025-09-19T19:43:34.556Z"
   },
   {
    "duration": 993,
    "start_time": "2025-09-19T19:43:41.795Z"
   },
   {
    "duration": 76,
    "start_time": "2025-09-19T19:44:43.607Z"
   },
   {
    "duration": 1956,
    "start_time": "2025-09-19T19:44:55.967Z"
   },
   {
    "duration": 69,
    "start_time": "2025-09-19T19:45:03.944Z"
   },
   {
    "duration": 73,
    "start_time": "2025-09-19T19:45:08.661Z"
   },
   {
    "duration": 67,
    "start_time": "2025-09-19T19:45:38.283Z"
   },
   {
    "duration": 67,
    "start_time": "2025-09-19T19:50:39.783Z"
   },
   {
    "duration": 70,
    "start_time": "2025-09-19T19:50:53.290Z"
   },
   {
    "duration": 84,
    "start_time": "2025-09-19T19:50:58.222Z"
   },
   {
    "duration": 70,
    "start_time": "2025-09-19T19:53:08.153Z"
   },
   {
    "duration": 8,
    "start_time": "2025-09-19T19:55:39.047Z"
   },
   {
    "duration": 11,
    "start_time": "2025-09-19T19:55:45.865Z"
   },
   {
    "duration": 15,
    "start_time": "2025-09-19T19:56:26.209Z"
   },
   {
    "duration": 19,
    "start_time": "2025-09-19T19:56:35.907Z"
   },
   {
    "duration": 26,
    "start_time": "2025-09-19T19:56:40.652Z"
   },
   {
    "duration": 40,
    "start_time": "2025-09-19T19:57:00.370Z"
   },
   {
    "duration": 59,
    "start_time": "2025-09-19T19:57:18.657Z"
   },
   {
    "duration": 55,
    "start_time": "2025-09-19T19:57:24.240Z"
   },
   {
    "duration": 250,
    "start_time": "2025-09-19T19:59:10.358Z"
   },
   {
    "duration": 239,
    "start_time": "2025-09-19T19:59:27.099Z"
   },
   {
    "duration": 288,
    "start_time": "2025-09-19T20:00:08.982Z"
   },
   {
    "duration": 216,
    "start_time": "2025-09-19T20:00:35.773Z"
   },
   {
    "duration": 109,
    "start_time": "2025-09-19T20:01:22.517Z"
   },
   {
    "duration": 61,
    "start_time": "2025-09-19T20:02:01.109Z"
   },
   {
    "duration": 47,
    "start_time": "2025-09-19T20:02:07.771Z"
   },
   {
    "duration": 89,
    "start_time": "2025-09-19T20:02:22.480Z"
   },
   {
    "duration": 303,
    "start_time": "2025-09-19T20:03:05.953Z"
   },
   {
    "duration": 79,
    "start_time": "2025-09-19T20:03:29.686Z"
   },
   {
    "duration": 70,
    "start_time": "2025-09-19T20:04:59.371Z"
   },
   {
    "duration": 85,
    "start_time": "2025-09-19T20:05:02.529Z"
   },
   {
    "duration": 77,
    "start_time": "2025-09-19T20:06:23.873Z"
   },
   {
    "duration": 80,
    "start_time": "2025-09-19T20:06:33.757Z"
   },
   {
    "duration": 105,
    "start_time": "2025-09-19T20:06:45.853Z"
   },
   {
    "duration": 82,
    "start_time": "2025-09-19T20:06:49.901Z"
   },
   {
    "duration": 83,
    "start_time": "2025-09-19T20:07:16.340Z"
   },
   {
    "duration": 78,
    "start_time": "2025-09-19T20:07:19.438Z"
   },
   {
    "duration": 89,
    "start_time": "2025-09-19T20:07:22.479Z"
   },
   {
    "duration": 84,
    "start_time": "2025-09-19T20:07:33.249Z"
   },
   {
    "duration": 64,
    "start_time": "2025-09-19T20:07:58.236Z"
   },
   {
    "duration": 82,
    "start_time": "2025-09-19T20:08:01.398Z"
   },
   {
    "duration": 87,
    "start_time": "2025-09-19T20:08:07.054Z"
   },
   {
    "duration": 14,
    "start_time": "2025-09-19T20:08:56.755Z"
   },
   {
    "duration": 6,
    "start_time": "2025-09-19T20:09:13.044Z"
   },
   {
    "duration": 6,
    "start_time": "2025-09-19T20:09:38.110Z"
   },
   {
    "duration": 6,
    "start_time": "2025-09-19T20:09:59.495Z"
   },
   {
    "duration": 81,
    "start_time": "2025-09-19T20:13:36.397Z"
   },
   {
    "duration": 800,
    "start_time": "2025-09-19T20:15:23.844Z"
   },
   {
    "duration": 77,
    "start_time": "2025-09-19T20:15:33.677Z"
   },
   {
    "duration": 66,
    "start_time": "2025-09-19T20:20:03.510Z"
   },
   {
    "duration": 166,
    "start_time": "2025-09-19T20:20:15.112Z"
   },
   {
    "duration": 54,
    "start_time": "2025-09-19T20:20:27.781Z"
   },
   {
    "duration": 172,
    "start_time": "2025-09-19T20:20:33.029Z"
   },
   {
    "duration": 86,
    "start_time": "2025-09-19T20:21:13.521Z"
   },
   {
    "duration": 80,
    "start_time": "2025-09-19T20:21:32.491Z"
   },
   {
    "duration": 62,
    "start_time": "2025-09-19T20:21:37.631Z"
   },
   {
    "duration": 57,
    "start_time": "2025-09-19T20:21:52.059Z"
   },
   {
    "duration": 53,
    "start_time": "2025-09-19T20:25:23.712Z"
   },
   {
    "duration": 53,
    "start_time": "2025-09-19T20:27:48.529Z"
   },
   {
    "duration": 53,
    "start_time": "2025-09-19T20:27:55.245Z"
   },
   {
    "duration": 3010,
    "start_time": "2025-09-19T20:29:17.336Z"
   },
   {
    "duration": 336,
    "start_time": "2025-09-19T20:29:20.348Z"
   },
   {
    "duration": 393,
    "start_time": "2025-09-19T20:29:20.685Z"
   },
   {
    "duration": 281,
    "start_time": "2025-09-19T20:29:21.080Z"
   },
   {
    "duration": 192,
    "start_time": "2025-09-19T20:29:21.363Z"
   },
   {
    "duration": 207,
    "start_time": "2025-09-19T20:29:21.557Z"
   },
   {
    "duration": 2752,
    "start_time": "2025-09-19T20:29:21.766Z"
   },
   {
    "duration": 263,
    "start_time": "2025-09-19T20:29:24.520Z"
   },
   {
    "duration": 30,
    "start_time": "2025-09-19T20:29:24.785Z"
   },
   {
    "duration": 179,
    "start_time": "2025-09-19T20:29:24.817Z"
   },
   {
    "duration": 201,
    "start_time": "2025-09-19T20:29:24.999Z"
   },
   {
    "duration": 7,
    "start_time": "2025-09-19T20:29:25.202Z"
   },
   {
    "duration": 119,
    "start_time": "2025-09-19T20:29:25.211Z"
   },
   {
    "duration": 0,
    "start_time": "2025-09-19T20:29:25.332Z"
   },
   {
    "duration": 0,
    "start_time": "2025-09-19T20:29:25.334Z"
   },
   {
    "duration": 0,
    "start_time": "2025-09-19T20:29:25.336Z"
   },
   {
    "duration": 0,
    "start_time": "2025-09-19T20:29:25.337Z"
   },
   {
    "duration": 0,
    "start_time": "2025-09-19T20:29:25.338Z"
   },
   {
    "duration": 1886,
    "start_time": "2025-09-19T20:30:03.394Z"
   },
   {
    "duration": 344,
    "start_time": "2025-09-19T20:30:09.672Z"
   },
   {
    "duration": 361,
    "start_time": "2025-09-19T20:30:14.392Z"
   },
   {
    "duration": 1104,
    "start_time": "2025-09-19T20:30:16.592Z"
   },
   {
    "duration": 71,
    "start_time": "2025-09-19T20:30:17.698Z"
   },
   {
    "duration": 89,
    "start_time": "2025-09-19T20:30:17.770Z"
   },
   {
    "duration": 61,
    "start_time": "2025-09-19T20:30:17.861Z"
   },
   {
    "duration": 3823,
    "start_time": "2025-09-20T13:28:31.656Z"
   },
   {
    "duration": 271,
    "start_time": "2025-09-20T13:28:35.481Z"
   },
   {
    "duration": 317,
    "start_time": "2025-09-20T13:28:35.754Z"
   },
   {
    "duration": 379,
    "start_time": "2025-09-20T13:28:36.073Z"
   },
   {
    "duration": 269,
    "start_time": "2025-09-20T13:28:36.454Z"
   },
   {
    "duration": 267,
    "start_time": "2025-09-20T13:28:36.725Z"
   },
   {
    "duration": 2145,
    "start_time": "2025-09-20T13:28:36.994Z"
   },
   {
    "duration": 274,
    "start_time": "2025-09-20T13:28:39.141Z"
   },
   {
    "duration": 37,
    "start_time": "2025-09-20T13:28:39.417Z"
   },
   {
    "duration": 162,
    "start_time": "2025-09-20T13:28:39.456Z"
   },
   {
    "duration": 263,
    "start_time": "2025-09-20T13:28:39.620Z"
   },
   {
    "duration": 8,
    "start_time": "2025-09-20T13:28:39.884Z"
   },
   {
    "duration": 450,
    "start_time": "2025-09-20T13:28:39.893Z"
   },
   {
    "duration": 285,
    "start_time": "2025-09-20T13:28:40.345Z"
   },
   {
    "duration": 836,
    "start_time": "2025-09-20T13:28:40.639Z"
   },
   {
    "duration": 71,
    "start_time": "2025-09-20T13:28:41.477Z"
   },
   {
    "duration": 59,
    "start_time": "2025-09-20T13:28:41.549Z"
   },
   {
    "duration": 54,
    "start_time": "2025-09-20T13:28:41.609Z"
   },
   {
    "duration": 846,
    "start_time": "2025-09-21T15:27:41.759Z"
   },
   {
    "duration": 47,
    "start_time": "2025-09-21T18:16:16.620Z"
   },
   {
    "duration": 1140,
    "start_time": "2025-09-21T18:16:29.240Z"
   },
   {
    "duration": 1926,
    "start_time": "2025-09-21T18:16:30.386Z"
   },
   {
    "duration": 319,
    "start_time": "2025-09-21T18:16:32.314Z"
   },
   {
    "duration": 384,
    "start_time": "2025-09-21T18:16:32.635Z"
   },
   {
    "duration": 271,
    "start_time": "2025-09-21T18:16:33.020Z"
   },
   {
    "duration": 178,
    "start_time": "2025-09-21T18:16:33.292Z"
   },
   {
    "duration": 186,
    "start_time": "2025-09-21T18:16:35.057Z"
   },
   {
    "duration": 61,
    "start_time": "2025-09-21T18:21:25.745Z"
   },
   {
    "duration": 14,
    "start_time": "2025-09-21T18:21:29.643Z"
   },
   {
    "duration": 2428,
    "start_time": "2025-09-21T18:21:36.636Z"
   },
   {
    "duration": 200,
    "start_time": "2025-09-21T18:21:39.066Z"
   },
   {
    "duration": 180,
    "start_time": "2025-09-21T18:21:49.903Z"
   },
   {
    "duration": 184,
    "start_time": "2025-09-21T18:21:53.495Z"
   },
   {
    "duration": 20,
    "start_time": "2025-09-21T18:27:46.051Z"
   },
   {
    "duration": 14,
    "start_time": "2025-09-21T18:27:47.017Z"
   },
   {
    "duration": 2431,
    "start_time": "2025-09-21T18:27:57.969Z"
   },
   {
    "duration": 197,
    "start_time": "2025-09-21T18:28:00.402Z"
   },
   {
    "duration": 4,
    "start_time": "2025-09-21T18:28:00.601Z"
   },
   {
    "duration": 16,
    "start_time": "2025-09-21T18:28:01.383Z"
   },
   {
    "duration": 165,
    "start_time": "2025-09-21T18:28:11.967Z"
   },
   {
    "duration": 152,
    "start_time": "2025-09-21T18:28:22.919Z"
   },
   {
    "duration": 241,
    "start_time": "2025-09-21T18:31:56.962Z"
   },
   {
    "duration": 3,
    "start_time": "2025-09-21T18:32:15.498Z"
   },
   {
    "duration": 16,
    "start_time": "2025-09-21T18:32:17.898Z"
   },
   {
    "duration": 4,
    "start_time": "2025-09-21T18:32:28.651Z"
   },
   {
    "duration": 14,
    "start_time": "2025-09-21T18:32:29.549Z"
   },
   {
    "duration": 153,
    "start_time": "2025-09-21T18:32:31.749Z"
   },
   {
    "duration": 172,
    "start_time": "2025-09-21T18:32:45.684Z"
   },
   {
    "duration": 3,
    "start_time": "2025-09-21T18:33:51.584Z"
   },
   {
    "duration": 13,
    "start_time": "2025-09-21T18:34:29.628Z"
   },
   {
    "duration": 16,
    "start_time": "2025-09-21T18:34:35.083Z"
   },
   {
    "duration": 127,
    "start_time": "2025-09-21T18:34:35.649Z"
   },
   {
    "duration": 185,
    "start_time": "2025-09-21T18:34:36.478Z"
   },
   {
    "duration": 7,
    "start_time": "2025-09-21T18:34:39.816Z"
   },
   {
    "duration": 382,
    "start_time": "2025-09-21T18:34:41.632Z"
   },
   {
    "duration": 849,
    "start_time": "2025-09-21T18:36:05.075Z"
   },
   {
    "duration": 634,
    "start_time": "2025-09-21T18:38:10.330Z"
   },
   {
    "duration": 300,
    "start_time": "2025-09-21T18:38:33.268Z"
   },
   {
    "duration": 290,
    "start_time": "2025-09-21T18:38:42.569Z"
   },
   {
    "duration": 181,
    "start_time": "2025-09-21T18:41:19.295Z"
   },
   {
    "duration": 322,
    "start_time": "2025-09-21T18:41:23.115Z"
   },
   {
    "duration": 177,
    "start_time": "2025-09-21T18:41:25.649Z"
   },
   {
    "duration": 296,
    "start_time": "2025-09-21T18:41:29.708Z"
   },
   {
    "duration": 50,
    "start_time": "2025-09-21T18:41:55.044Z"
   },
   {
    "duration": 289,
    "start_time": "2025-09-21T18:42:28.374Z"
   },
   {
    "duration": 429,
    "start_time": "2025-09-21T18:42:34.640Z"
   },
   {
    "duration": 11,
    "start_time": "2025-09-21T18:43:30.685Z"
   },
   {
    "duration": 1034,
    "start_time": "2025-09-21T18:43:35.950Z"
   },
   {
    "duration": 66,
    "start_time": "2025-09-21T18:43:38.165Z"
   },
   {
    "duration": 56,
    "start_time": "2025-09-21T18:43:43.337Z"
   },
   {
    "duration": 61,
    "start_time": "2025-09-21T18:43:49.993Z"
   },
   {
    "duration": 12,
    "start_time": "2025-09-21T18:45:25.050Z"
   },
   {
    "duration": 63,
    "start_time": "2025-09-21T18:45:28.744Z"
   },
   {
    "duration": 50,
    "start_time": "2025-09-21T18:45:30.547Z"
   },
   {
    "duration": 47,
    "start_time": "2025-09-21T18:46:01.449Z"
   },
   {
    "duration": 141,
    "start_time": "2025-09-21T18:47:33.943Z"
   },
   {
    "duration": 63,
    "start_time": "2025-09-21T18:52:00.126Z"
   },
   {
    "duration": 66,
    "start_time": "2025-09-21T18:52:05.491Z"
   },
   {
    "duration": 49,
    "start_time": "2025-09-21T18:52:09.058Z"
   },
   {
    "duration": 57,
    "start_time": "2025-09-26T10:38:32.166Z"
   },
   {
    "duration": 8,
    "start_time": "2025-09-26T10:47:50.463Z"
   },
   {
    "duration": 1061,
    "start_time": "2025-09-26T10:47:55.664Z"
   },
   {
    "duration": 2336,
    "start_time": "2025-09-26T10:47:56.727Z"
   },
   {
    "duration": 354,
    "start_time": "2025-09-26T10:47:59.064Z"
   },
   {
    "duration": 412,
    "start_time": "2025-09-26T10:47:59.420Z"
   },
   {
    "duration": 306,
    "start_time": "2025-09-26T10:47:59.834Z"
   },
   {
    "duration": 211,
    "start_time": "2025-09-26T10:48:00.142Z"
   },
   {
    "duration": 208,
    "start_time": "2025-09-26T10:48:04.148Z"
   },
   {
    "duration": 2920,
    "start_time": "2025-09-26T10:48:05.426Z"
   },
   {
    "duration": 250,
    "start_time": "2025-09-26T10:48:08.348Z"
   },
   {
    "duration": 22,
    "start_time": "2025-09-26T10:48:08.601Z"
   },
   {
    "duration": 16,
    "start_time": "2025-09-26T10:48:08.859Z"
   },
   {
    "duration": 194,
    "start_time": "2025-09-26T10:48:09.597Z"
   },
   {
    "duration": 300,
    "start_time": "2025-09-26T10:48:10.414Z"
   },
   {
    "duration": 8,
    "start_time": "2025-09-26T10:48:11.232Z"
   },
   {
    "duration": 362,
    "start_time": "2025-09-26T10:48:11.827Z"
   },
   {
    "duration": 347,
    "start_time": "2025-09-26T10:48:13.144Z"
   },
   {
    "duration": 1256,
    "start_time": "2025-09-26T10:48:14.777Z"
   },
   {
    "duration": 81,
    "start_time": "2025-09-26T10:48:16.035Z"
   },
   {
    "duration": 79,
    "start_time": "2025-09-26T10:48:16.360Z"
   },
   {
    "duration": 57,
    "start_time": "2025-09-26T10:48:17.309Z"
   },
   {
    "duration": 17,
    "start_time": "2025-09-26T10:51:13.829Z"
   },
   {
    "duration": 61,
    "start_time": "2025-10-21T14:05:37.593Z"
   },
   {
    "duration": 1253,
    "start_time": "2025-10-21T14:05:42.113Z"
   },
   {
    "duration": 163,
    "start_time": "2025-10-21T14:05:43.369Z"
   },
   {
    "duration": 2,
    "start_time": "2025-10-21T14:05:45.436Z"
   },
   {
    "duration": 1887,
    "start_time": "2025-10-21T14:05:47.805Z"
   },
   {
    "duration": 1783,
    "start_time": "2025-10-21T14:05:53.164Z"
   },
   {
    "duration": 307,
    "start_time": "2025-10-21T14:06:23.239Z"
   }
  ],
  "colab": {
   "provenance": []
  },
  "kernelspec": {
   "display_name": "Python 3 (ipykernel)",
   "language": "python",
   "name": "python3"
  },
  "language_info": {
   "codemirror_mode": {
    "name": "ipython",
    "version": 3
   },
   "file_extension": ".py",
   "mimetype": "text/x-python",
   "name": "python",
   "nbconvert_exporter": "python",
   "pygments_lexer": "ipython3",
   "version": "3.9.5"
  },
  "toc": {
   "base_numbering": 1,
   "nav_menu": {},
   "number_sections": true,
   "sideBar": true,
   "skip_h1_title": true,
   "title_cell": "Table of Contents",
   "title_sidebar": "Contents",
   "toc_cell": false,
   "toc_position": {},
   "toc_section_display": true,
   "toc_window_display": false
  }
 },
 "nbformat": 4,
 "nbformat_minor": 1
}
